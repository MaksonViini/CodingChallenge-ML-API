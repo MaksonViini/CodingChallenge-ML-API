{
 "cells": [
  {
   "cell_type": "code",
   "execution_count": 1,
   "metadata": {},
   "outputs": [],
   "source": [
    "import pandas as pd\n",
    "import numpy as np\n",
    "from sklearn.model_selection import train_test_split\n",
    "from sklearn.linear_model import Perceptron\n",
    "from sklearn.preprocessing import StandardScaler\n",
    "from sklearn.metrics import accuracy_score, precision_score\n",
    "\n",
    "test_size = 0.3\n",
    "eta0 = 0.1"
   ]
  },
  {
   "cell_type": "code",
   "execution_count": 2,
   "metadata": {},
   "outputs": [],
   "source": [
    "column_names = [\n",
    "    \"sample_code_number\", \n",
    "    \"clump_thickness\", \n",
    "    \"uniformity_of_cell_size\", \n",
    "    \"uniformity_of_cell_shape\", \n",
    "    \"marginal_adhesion\", \n",
    "    \"single_epithelial_cell_size\",\n",
    "    \"bare_nuclei\",\n",
    "    \"bland_chromatin\",\n",
    "    \"normal_nucleoli\",\n",
    "    \"mitoses\",\n",
    "    \"class\"\n",
    "]\n",
    "\n",
    "raw_df = pd.read_csv(\"breast-cancer-wisconsin.data\", names = column_names, na_values=[\"?\"]).dropna(how='any')\n",
    "cleaned_df = raw_df.apply(pd.to_numeric, errors='raise')"
   ]
  },
  {
   "cell_type": "code",
   "execution_count": 59,
   "metadata": {},
   "outputs": [
    {
     "data": {
      "text/plain": [
       "(1, 10)"
      ]
     },
     "execution_count": 59,
     "metadata": {},
     "output_type": "execute_result"
    }
   ],
   "source": [
    "cleaned_df[\"clump_thickness\"].min(), cleaned_df[\"clump_thickness\"].max()"
   ]
  },
  {
   "cell_type": "code",
   "execution_count": 4,
   "metadata": {},
   "outputs": [],
   "source": [
    "#feature engineering\n",
    "cleaned_df[\"class\"] = cleaned_df[\"class\"].apply(lambda x: 0 if x==4 else 1)\n",
    "\n",
    "y = cleaned_df.pop('class')\n",
    "X = cleaned_df\n",
    "\n",
    "sc = StandardScaler()\n",
    "sc.fit(X)\n",
    "\n",
    "X_std = sc.transform(X)"
   ]
  },
  {
   "cell_type": "code",
   "execution_count": 5,
   "metadata": {},
   "outputs": [
    {
     "name": "stdout",
     "output_type": "stream",
     "text": [
      "Acurácias obtidas: [95.12, 92.68, 96.59, 94.63, 95.61, 97.07, 97.07, 98.05, 97.07, 95.61, 97.07, 94.63, 94.63, 95.12, 94.15, 95.12, 95.61, 94.63, 97.56, 93.17]\n",
      "Precisões obtidas: [96.95, 97.41, 97.64, 97.64, 96.27, 99.21, 98.45, 99.17, 96.18, 96.21, 98.4, 94.62, 97.78, 94.07, 93.18, 96.4, 96.99, 95.31, 98.5, 94.29]\n",
      "Desvio padrão da acurácia: 1.4216872898074295\n",
      "Desvio padrão da precisão: 1.6928475270974634\n"
     ]
    }
   ],
   "source": [
    "random_seed_array = range(1, 21)\n",
    "\n",
    "accuracy_array = []\n",
    "precision_array = []\n",
    "\n",
    "model = Perceptron(eta0 = eta0)\n",
    "for random_state in random_seed_array:\n",
    "    X_train, X_test, y_train, y_test = train_test_split(\n",
    "        X_std, \n",
    "        y, \n",
    "        test_size = test_size,\n",
    "        random_state = random_state\n",
    "    )\n",
    "\n",
    "    model.fit(X_train, y_train)\n",
    "    \n",
    "    y_pred = model.predict(X_test)\n",
    "\n",
    "    accuracy_array.append(round(accuracy_score(y_test, y_pred) * 100, 2))\n",
    "    precision_array.append(round(precision_score(y_test, y_pred) * 100, 2))\n",
    "\n",
    "print('Acurácias obtidas: {0}'.format(accuracy_array))\n",
    "print('Precisões obtidas: {0}'.format(precision_array))\n",
    "print('Desvio padrão da acurácia: {0}'.format(np.std(accuracy_array))) \n",
    "print('Desvio padrão da precisão: {0}'.format(np.std(precision_array))) "
   ]
  },
  {
   "cell_type": "code",
   "execution_count": 6,
   "metadata": {},
   "outputs": [
    {
     "name": "stdout",
     "output_type": "stream",
     "text": [
      "Predicted: [0]\n"
     ]
    }
   ],
   "source": [
    "#predict example\n",
    "\n",
    "data = [[999999, 5, 10, 10, 3, 7, 3, 8, 10, 2]]\n",
    "\n",
    "columns = ['sample_code_number', 'clump_thickness', 'uniformity_of_cell_size', \n",
    "           'uniformity_of_cell_shape', 'marginal_adhesion', \n",
    "           'single_epithelial_cell_size', 'bare_nuclei', 'bland_chromatin', \n",
    "           'normal_nucleoli', 'mitoses']\n",
    "\n",
    "data_std = sc.transform(pd.DataFrame(data, columns=columns))\n",
    "pred = model.predict(data_std)\n",
    "print(f\"Predicted: {pred}\")"
   ]
  },
  {
   "cell_type": "code",
   "execution_count": 36,
   "metadata": {},
   "outputs": [
    {
     "data": {
      "text/html": [
       "<div>\n",
       "<style scoped>\n",
       "    .dataframe tbody tr th:only-of-type {\n",
       "        vertical-align: middle;\n",
       "    }\n",
       "\n",
       "    .dataframe tbody tr th {\n",
       "        vertical-align: top;\n",
       "    }\n",
       "\n",
       "    .dataframe thead th {\n",
       "        text-align: right;\n",
       "    }\n",
       "</style>\n",
       "<table border=\"1\" class=\"dataframe\">\n",
       "  <thead>\n",
       "    <tr style=\"text-align: right;\">\n",
       "      <th></th>\n",
       "      <th>sample_code_number</th>\n",
       "      <th>clump_thickness</th>\n",
       "      <th>uniformity_of_cell_size</th>\n",
       "      <th>uniformity_of_cell_shape</th>\n",
       "      <th>marginal_adhesion</th>\n",
       "      <th>single_epithelial_cell_size</th>\n",
       "      <th>bare_nuclei</th>\n",
       "      <th>bland_chromatin</th>\n",
       "      <th>normal_nucleoli</th>\n",
       "      <th>mitoses</th>\n",
       "    </tr>\n",
       "  </thead>\n",
       "  <tbody>\n",
       "    <tr>\n",
       "      <th>0</th>\n",
       "      <td>999999</td>\n",
       "      <td>5</td>\n",
       "      <td>10</td>\n",
       "      <td>10</td>\n",
       "      <td>3</td>\n",
       "      <td>7</td>\n",
       "      <td>3</td>\n",
       "      <td>8</td>\n",
       "      <td>10</td>\n",
       "      <td>2</td>\n",
       "    </tr>\n",
       "  </tbody>\n",
       "</table>\n",
       "</div>"
      ],
      "text/plain": [
       "   sample_code_number  clump_thickness  uniformity_of_cell_size  \\\n",
       "0              999999                5                       10   \n",
       "\n",
       "   uniformity_of_cell_shape  marginal_adhesion  single_epithelial_cell_size  \\\n",
       "0                        10                  3                            7   \n",
       "\n",
       "   bare_nuclei  bland_chromatin  normal_nucleoli  mitoses  \n",
       "0            3                8               10        2  "
      ]
     },
     "execution_count": 36,
     "metadata": {},
     "output_type": "execute_result"
    }
   ],
   "source": [
    "pd.DataFrame(data, columns=columns)"
   ]
  },
  {
   "cell_type": "markdown",
   "metadata": {},
   "source": [
    "# Save model"
   ]
  },
  {
   "cell_type": "code",
   "execution_count": 32,
   "metadata": {},
   "outputs": [],
   "source": [
    "import joblib\n",
    "import os"
   ]
  },
  {
   "cell_type": "code",
   "execution_count": 33,
   "metadata": {},
   "outputs": [],
   "source": [
    "current_file_dir = os.path.dirname(os.getcwd())\n",
    "save_path = os.path.join(current_file_dir, \"..\", \"..\", \"src/app/resources/models/v1/\")"
   ]
  },
  {
   "cell_type": "code",
   "execution_count": 34,
   "metadata": {},
   "outputs": [
    {
     "data": {
      "text/plain": [
       "['/home/maksonvinicio/Documents/GitLab-GitHub/CodingChallenge-ML-API/src/scripts/../../src/app/resources/models/v1/sc.joblib']"
      ]
     },
     "execution_count": 34,
     "metadata": {},
     "output_type": "execute_result"
    }
   ],
   "source": [
    "joblib.dump(model, f\"{save_path}model.joblib\")\n",
    "joblib.dump(sc, f\"{save_path}sc.joblib\")"
   ]
  },
  {
   "cell_type": "code",
   "execution_count": 4,
   "metadata": {},
   "outputs": [],
   "source": [
    "from typing import List, Optional\n",
    "from pydantic import BaseModel, Field\n",
    "import numpy as np\n",
    "import json\n",
    "\n",
    "\n",
    "\n",
    "class Input(BaseModel):\n",
    "    \"\"\"Input data class for the ML model.\"\"\"\n",
    "    \n",
    "    sample_code_number: int\n",
    "    clump_thickness: int\n",
    "    uniformity_of_cell_size: int\n",
    "    uniformity_of_cell_shape: int\n",
    "    marginal_adhesion: int\n",
    "    single_epithelial_cell_size: int\n",
    "    bare_nuclei: float | int\n",
    "    bland_chromatin: int\n",
    "    normal_nucleoli: int\n",
    "    mitoses: int"
   ]
  },
  {
   "cell_type": "code",
   "execution_count": 51,
   "metadata": {},
   "outputs": [],
   "source": [
    "input_data = {\n",
    "  \"sample_code_number\": 999999,\n",
    "  \"clump_thickness\": 5,\n",
    "  \"uniformity_of_cell_size\": 10,\n",
    "  \"uniformity_of_cell_shape\": 10,\n",
    "  \"marginal_adhesion\": 3,\n",
    "  \"single_epithelial_cell_size\": 7,\n",
    "  \"bare_nuclei\": 3,\n",
    "  \"bland_chromatin\": 8,\n",
    "  \"normal_nucleoli\": 10,\n",
    "  \"mitoses\": 2\n",
    "}"
   ]
  },
  {
   "cell_type": "code",
   "execution_count": 6,
   "metadata": {},
   "outputs": [],
   "source": [
    "input_data = Input(**input_data)"
   ]
  },
  {
   "cell_type": "code",
   "execution_count": 53,
   "metadata": {},
   "outputs": [],
   "source": [
    "data = pd.DataFrame([input_data.dict()])"
   ]
  },
  {
   "cell_type": "code",
   "execution_count": 54,
   "metadata": {},
   "outputs": [],
   "source": [
    "data_std = sc.transform(data)\n",
    "pred = model.predict(data_std)"
   ]
  },
  {
   "cell_type": "code",
   "execution_count": 56,
   "metadata": {},
   "outputs": [
    {
     "data": {
      "text/plain": [
       "0"
      ]
     },
     "execution_count": 56,
     "metadata": {},
     "output_type": "execute_result"
    }
   ],
   "source": [
    "pred[0]"
   ]
  }
 ],
 "metadata": {
  "kernelspec": {
   "display_name": "Python 3 (ipykernel)",
   "language": "python",
   "name": "python3"
  },
  "language_info": {
   "codemirror_mode": {
    "name": "ipython",
    "version": 3
   },
   "file_extension": ".py",
   "mimetype": "text/x-python",
   "name": "python",
   "nbconvert_exporter": "python",
   "pygments_lexer": "ipython3",
   "version": "3.10.12"
  }
 },
 "nbformat": 4,
 "nbformat_minor": 4
}
